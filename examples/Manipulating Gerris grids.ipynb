{
 "metadata": {
  "name": "",
  "signature": "sha256:26d01ce403e0148791764fc46cc7aa5fe7739ac8440864f6967722585224b72a"
 },
 "nbformat": 3,
 "nbformat_minor": 0,
 "worksheets": [
  {
   "cells": [
    {
     "cell_type": "code",
     "collapsed": false,
     "input": [
      "%pylab inline\n",
      "\n",
      "import pandas\n",
      "import matplotlib.pyplot as plt\n",
      "import matplotlib.mlab as mlab\n",
      "import numpy\n",
      "import itertools, collections\n",
      "import cPickle as pickle\n",
      "import re, os, subprocess, shutil\n",
      "\n",
      "import pydym\n",
      "from pydym.io.gerris import *"
     ],
     "language": "python",
     "metadata": {},
     "outputs": []
    },
    {
     "cell_type": "markdown",
     "metadata": {},
     "outputs": [],
     "source": [
      "# Generating new sampling grids for Gerris\n",
      "\n",
      "Need to be able to get a subset of locations to sample simulations from "
     ]
    },
    {
     "cell_type": "code",
     "collapsed": false,
     "input": [
      "current_dir = os.getcwd()\n",
      "data_dir = os.path.join(current_dir, 'test_data')\n",
      "gfsfiles = [f for f in os.listdir(data_dir) if f.endswith('.gfs')]\n",
      "gfsfiles"
     ],
     "language": "python",
     "metadata": {},
     "outputs": []
    },
    {
     "cell_type": "code",
     "collapsed": false,
     "input": [
      "def plot_vertices(vertices, axes=None, **kwargs):\n",
      "    \"\"\" Plots vertices from a collection of boxes\n",
      "    \"\"\"\n",
      "    if axes is None:\n",
      "        fig = plt.figure(figsize=(11, 11))\n",
      "        axes = plt.gca()\n",
      "    axes.plot(vertices[:, 0], vertices[:, 1], **kwargs)\n",
      "    axes.set_axis_off()\n",
      "    axes.set_ylim(-0.51, 1.51)\n",
      "    axes.set_xlim(-1.51, 1.51)\n",
      "    axes.set_aspect('equal')"
     ],
     "language": "python",
     "metadata": {},
     "outputs": []
    },
    {
     "cell_type": "code",
     "collapsed": false,
     "input": [
      "# Load boxes from gerris file\n",
      "gfsfile = 'chaos-1.0.64.10.gfs'\n",
      "boxes = boxes_from_gfsfile(os.path.join(data_dir, gfsfile))\n",
      "boxes[..., 2] = 1\n",
      "\n",
      "# Plot original boxes\n",
      "fig = figure(figsize=(11, 5))\n",
      "axes = subplot(1, 2, 1) \n",
      "plot_vertices(boxes, axes=axes, color='black', marker='.', linewidth=0)\n",
      "axes.set_title('Original box centroids')\n",
      "\n",
      "# Increase resolution of boxes\n",
      "for _ in range(4):\n",
      "    boxes = double_resolution(boxes)\n",
      "\n",
      "# Mask out a subset of those boxes\n",
      "mask = in_box(boxes, top=0.75, bottom=-0.5, left=-0.6, right = 1.6)\n",
      "subset = boxes[mask]\n",
      "\n",
      "axes = subplot(1, 2, 2)\n",
      "plot_vertices(boxes, axes=axes, color='black', marker='.', linewidth=0)\n",
      "plot_vertices(subset, axes=axes, color='red', marker='.', linewidth=0)\n",
      "axes.set_title('Refined centroids, selected centroids in red')\n",
      "fig.tight_layout()"
     ],
     "language": "python",
     "metadata": {},
     "outputs": []
    },
    {
     "cell_type": "markdown",
     "metadata": {},
     "outputs": [],
     "source": [
      "now we can write this all to file"
     ]
    },
    {
     "cell_type": "code",
     "collapsed": false,
     "input": [
      "vertices = subset\n",
      "vertices[..., 2] = 0  # Store a z value of 0 \n",
      "numpy.savetxt(\"vertices.csv\", subset, delimiter=' ')\n",
      "current_dir = os.getcwd()"
     ],
     "language": "python",
     "metadata": {},
     "outputs": []
    },
    {
     "cell_type": "markdown",
     "metadata": {},
     "outputs": [],
     "source": [
      "## Generating a dataset for SVD of dynamic modes\n",
      "\n",
      "We can use the output of Gerris to generate these on the fly from a folder of simulation outputs"
     ]
    },
    {
     "cell_type": "code",
     "collapsed": false,
     "input": [
      "os.chdir(data_dir)\n",
      "shutil.copyfile(os.path.join(current_dir, 'vertices.csv'), 'vertices.csv')\n",
      "reader = pydym.io.gerris.GerrisReader(vertex_file='vertices.csv', \n",
      "                                      gerris='gerris2D')"
     ],
     "language": "python",
     "metadata": {},
     "outputs": []
    },
    {
     "cell_type": "markdown",
     "metadata": {},
     "outputs": [],
     "source": [
      "For each file, call Gerris to generate a tabulated output at the points given in vertices.csv"
     ]
    },
    {
     "cell_type": "code",
     "collapsed": false,
     "input": [
      "data = reader.process_directory(update=False)"
     ],
     "language": "python",
     "metadata": {},
     "outputs": []
    },
    {
     "cell_type": "markdown",
     "metadata": {},
     "outputs": [],
     "source": [
      "Check that the vertices are being copied over properly"
     ]
    },
    {
     "cell_type": "code",
     "collapsed": false,
     "input": [
      "vertices = numpy.loadtxt('vertices.csv', delimiter=' ')\n",
      "for datum in data:   \n",
      "    assert numpy.allclose(datum.positions, vertices[..., 0:2])"
     ],
     "language": "python",
     "metadata": {},
     "outputs": []
    },
    {
     "cell_type": "markdown",
     "metadata": {},
     "outputs": [],
     "source": [
      "Now we can loop through the files and generate a plot showing the stuff in them"
     ]
    },
    {
     "cell_type": "code",
     "collapsed": false,
     "input": [
      "from pydym.plotting import plot_flow_data\n",
      "from pydym.plotting.utilities import make_axes_grid\n",
      "from pydym.utilities import ProgressBar\n",
      "\n",
      "fig = figure(figsize=(11, 16))\n",
      "\n",
      "# Make a grid of axes\n",
      "gspec = make_axes_grid(len(data), ncols=3)\n",
      "\n",
      "# Generate plots\n",
      "pbar = ProgressBar(len(data))\n",
      "for idx, (datum, gs) in enumerate(zip(data, gspec)):\n",
      "    plot_flow_data(datum, axes=subplot(gs), n_contours=5, n_quiver=5)\n",
      "    pbar.animate(idx + 1)\n",
      "fig.tight_layout()"
     ],
     "language": "python",
     "metadata": {},
     "outputs": []
    },
    {
     "cell_type": "markdown",
     "metadata": {},
     "outputs": [],
     "source": [
      "Next we need to generate a matrix out of the velocity vectors"
     ]
    },
    {
     "cell_type": "code",
     "collapsed": false,
     "input": [
      "# Generate plots\n",
      "velocity_matrix = []\n",
      "for fname in output_files:\n",
      "    data = read_output_file(fname)\n",
      "    velocity_matrix.append(data['U'].values + 1j * data['V'].values)\n",
      "    \n",
      "# Glue matrix together into an array\n",
      "velocity_matrix = numpy.asarray(velocity_matrix).transpose()\n",
      "velocity_matrix.shape"
     ],
     "language": "python",
     "metadata": {},
     "outputs": []
    },
    {
     "cell_type": "code",
     "collapsed": false,
     "input": [
      "# Get timestep for later\n",
      "output_times = numpy.array([float(ofile.split('.')[0].split('_')[1])\n",
      "                for ofile in output_files])\n",
      "timestep = output_times[1] - output_times[0]\n",
      "timestep"
     ],
     "language": "python",
     "metadata": {},
     "outputs": []
    },
    {
     "cell_type": "markdown",
     "metadata": {},
     "outputs": [],
     "source": [
      "## Calculate SVD \n",
      "\n",
      "The next thing is to calculate the approximate eigenvalues of the system"
     ]
    },
    {
     "cell_type": "code",
     "collapsed": false,
     "input": [
      "# Function to calculate the Hermitian transpose of a complex matrix\n",
      "htrans = lambda A: A.conj().transpose()\n",
      "\n",
      "def calculate_approximation(data, return_svd=False):\n",
      "    \"\"\" Calculates an approximation to the dynamic matrix A for a \n",
      "        given set of velocity vectors.\n",
      "    \n",
      "        Velocity vectors should be given as complex numbers \n",
      "        (i.e. $U = u + iv$).\n",
      "        \n",
      "        :returns: S, where S is the approximant. If return_svd is \n",
      "            True, also returns the singular value decomposition \n",
      "            U, Sigma, V\n",
      "        \n",
      "    \"\"\"\n",
      "    # Subdivide the time sequence in to the past and current states\n",
      "    past = data[:, :-1] \n",
      "    current = data[:, 1:]\n",
      "    \n",
      "    # Calculate SVD of past data array, full_matrices=False asks for economy-sized decomp\n",
      "    U, sigma, Vstar = numpy.linalg.svd(past, full_matrices=False)\n",
      "     \n",
      "#     residual = numpy.linalg.norm(\n",
      "#         past - numpy.dot(U, numpy.dot(diag(sigma), Vstar)))  # Store residual for later\n",
      "\n",
      "    # Note inv(diag(A)) = diag(1 / A)\n",
      "    S = numpy.dot(htrans(U), numpy.dot(current, numpy.dot(htrans(Vstar), diag(1. / sigma))))\n",
      "    \n",
      "    # Send back results\n",
      "    if return_svd:\n",
      "        return S, U, sigma, Vstar\n",
      "    else:\n",
      "        return S"
     ],
     "language": "python",
     "metadata": {},
     "outputs": []
    },
    {
     "cell_type": "code",
     "collapsed": false,
     "input": [
      "S, U, sigma, Vstar = calculate_approximation(velocity_matrix, return_svd=True)\n",
      "V = Vstar.conj()\n",
      "axes = plt.gca()\n",
      "axes.set_xlabel('Singular value index')\n",
      "axes.set_xlim(-0.25, len(sigma) - 0.75)\n",
      "axes.set_ylabel('Singular value magnitude')\n",
      "axes.set_ylim(-0.1 * sigma[0], 1.1 * sigma[0])\n",
      "axes.plot(sigma, 'ko')"
     ],
     "language": "python",
     "metadata": {},
     "outputs": []
    },
    {
     "cell_type": "code",
     "collapsed": false,
     "input": [
      "# Generate eigenvalues\n",
      "eigenvalues, eigenvectors = numpy.linalg.eig(S.transpose())\n",
      "log_eigenvalues = log(eigenvalues) / timestep\n",
      "eigdict = dict(enumerate(zip(eigenvalues, eigenvectors)))\n",
      "times = timestep * arange(len(eigenvectors[0]))\n",
      "\n",
      "# Plot the eigenvalues\n",
      "figure(figsize=(6, 6))\n",
      "# gspec = plt.GridSpec(1, 2, width_ratios=(1, 2))\n",
      "# axes = plt.subplot(gspec[0])\n",
      "axes = gca()\n",
      "for idx, (ev, evec) in eigdict.items():    \n",
      "    axes.plot(ev.real, ev.imag, \n",
      "              'ro', alpha=0.5)\n",
      "    axes.annotate(idx, xy=(ev.real, ev.imag), xytext=(ev.real + 0.05, ev.imag + 0.05))\n",
      "theta = linspace(0, 2 * numpy.pi)\n",
      "axes.plot(sin(theta), cos(theta), 'k--')  # Show the unit circle\n",
      "axes.set_ylabel(r'$Im(\\lambda)$')\n",
      "axes.set_xlabel(r'$Re(\\lambda)$')\n",
      "axes.set_title('Eigenvalues')\n",
      "axes.set_aspect('equal')\n",
      "\n",
      "# Plot log eigenvalues\n",
      "figure(figsize=(8, 8))\n",
      "for idx, (ev, evec) in eigdict.items():\n",
      "    axes = subplot(len(eigdict), 1, idx + 1)\n",
      "    axes.plot(times, evec)\n",
      "    axes.set_title('$\\lambda_{{{0}}}={1:.3f}$'.format(idx, ev))\n",
      "tight_layout()\n",
      "# axes = plt.subplot(gspec[1])\n",
      "# axes.plot(log_eigenvalues.imag, log_eigenvalues.real, 'r^', alpha=0.5)"
     ],
     "language": "python",
     "metadata": {},
     "outputs": []
    },
    {
     "cell_type": "code",
     "collapsed": false,
     "input": [
      "# Generate eigenmodes\n",
      "modes = []\n",
      "pbar = ProgressBar(len(eigenvalues))\n",
      "for idx, evector in enumerate(eigenvectors):\n",
      "    modes.append(-U[:, idx].transpose())\n",
      "    pbar.animate(idx + 1)\n",
      "times = timestep * arange(len(modes))"
     ],
     "language": "python",
     "metadata": {},
     "outputs": []
    },
    {
     "cell_type": "code",
     "collapsed": false,
     "input": [
      "# Set up gridding\n",
      "xval, yval = data['x'].values, data['y'].values\n",
      "xlim = xval.min(), xval.max()\n",
      "ylim = yval.min(), yval.max()\n",
      "nx, ny = map(len, (xval, yval))\n",
      "xs, ys = linspace(*xlim, num=nx), linspace(*ylim, num=ny)\n",
      "make_grid = lambda var: mlab.griddata(data['x'].values, \n",
      "                                      data['y'].values, \n",
      "                                      var, \n",
      "                                      xs, ys,\n",
      "                                      interp='linear')\n",
      "\n",
      "# Plot the flow fields\n",
      "fig = figure(figsize=(21, 21))\n",
      "gspec = make_axes_grid(len(eigenvectors), ncols=3)\n",
      "pbar = ProgressBar(len(eigenvectors))\n",
      "for idx, mode in enumerate(modes):\n",
      "    ax = subplot(gspec[idx])\n",
      "    ax.contourf(xs, ys, make_grid(numpy.abs(mode)), cmap=get_cmap('RdYlBu'), alpha=0.5)\n",
      "    ax.quiver(data['x'].values, data['y'].values, mode.real, mode.imag)\n",
      "    ax.add_patch(Rectangle((-1.5, -0.5), 1, 1, edgecolor='none', facecolor='white'))\n",
      "    ax.add_patch(Rectangle((0.5, -0.5), 1, 1, edgecolor='none', facecolor='white'))\n",
      "    ax.set_axis_off()\n",
      "    ax.set_title('Eigenvalue: {0}')\n",
      "    ax.set_aspect('equal')\n",
      "    pbar.animate(idx + 1)\n",
      "fig.tight_layout()\n",
      "fig.savefig('modes1.png')"
     ],
     "language": "python",
     "metadata": {},
     "outputs": []
    },
    {
     "cell_type": "markdown",
     "metadata": {},
     "outputs": [],
     "source": [
      "Plot the eigenmodes with the changes in time"
     ]
    },
    {
     "cell_type": "code",
     "collapsed": true,
     "input": [
      "fig = figure(figsize=(11, 23))\n",
      "gspec = GridSpec(len(modes) + 1, 2, width_ratios=(0.25, 1))\n",
      "\n",
      "# Plot singular values\n",
      "axes = subplot(gspec[0, :])\n",
      "axes.set_xlabel('Singular value index')\n",
      "axes.set_xlim(-0.5, len(sigma) - 0.5)\n",
      "axes.set_ylabel('Singular value magnitude')\n",
      "axes.bar(range(len(sigma)), sigma, edgecolor='k', facecolor='k', alpha=0.6, align='center')\n",
      "axes.set_xticks(range(len(sigma)))\n",
      "axes.set_xticklabels(range(len(sigma)))\n",
      "axes.set_title('Mode amplitude')\n",
      "\n",
      "pbar = ProgressBar(len(modes))\n",
      "xs, ys = data['x'].values[::5], data['y'].values[::5]\n",
      "make_grid = lambda var: mlab.griddata(xs, ys, var, xs, ys,\n",
      "                                      interp='linear')\n",
      "for idx, mode in enumerate(modes):\n",
      "    # Plot spatial mode\n",
      "    vals = mode[::5]\n",
      "    mode_axes = subplot(gspec[idx + 1, 0])\n",
      "    mode_axes.contourf(xs, ys, make_grid(numpy.abs(vals)), 5, cmap=get_cmap('RdYlBu'), alpha=0.5)\n",
      "    mode_axes.quiver(xs, ys, vals.real, vals.imag)\n",
      "    mode_axes.add_patch(Rectangle((-1.5, -0.5), 1, 1, edgecolor='none', facecolor='white'))\n",
      "    mode_axes.add_patch(Rectangle((0.5, -0.5), 1, 1, edgecolor='none', facecolor='white'))\n",
      "    mode_axes.set_axis_off()\n",
      "    mode_axes.set_aspect('equal')\n",
      "#     mode_axes.set_title('Mode {0}'.format(idx))\n",
      "    \n",
      "    # Plot dynamics\n",
      "    vmin, vmax = min(V[idx]), max(V[idx])\n",
      "    vrange = vmax - vmin\n",
      "    dyn_axes = subplot(gspec[idx + 1, 1])\n",
      "    dyn_axes.plot(times, V[idx].real, 'k', linewidth=2, alpha=0.8)\n",
      "    dyn_axes.plot(times, V[idx].imag, 'k', linewidth=2, alpha=0.8, dashes=(4, 4))\n",
      "    if idx == 0:\n",
      "        dyn_axes.set_title('Dynamics, solid/dashed -> real/imag part')\n",
      "    pbar.animate(idx + 1)\n",
      "\n",
      "# Add xlabels on dynamic axes\n",
      "for time in times:\n",
      "    dyn_axes.text(time, -0.1 * vrange, time, verticalalignment='top', horizontalalignment='center')\n",
      "    \n",
      "fig.tight_layout()\n",
      "fig.savefig('time_dependence.png')"
     ],
     "language": "python",
     "metadata": {},
     "outputs": []
    }
   ],
   "metadata": {}
  }
 ]
}