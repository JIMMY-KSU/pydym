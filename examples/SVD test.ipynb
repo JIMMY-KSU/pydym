{
 "metadata": {
  "name": "",
  "signature": "sha256:6823ec9235691617d3391f62b414851f23ec9d1e4d42448e3b317eb7d88919a5"
 },
 "nbformat": 3,
 "nbformat_minor": 0,
 "worksheets": [
  {
   "cells": [
    {
     "cell_type": "code",
     "collapsed": false,
     "input": [
      "%pylab inline\n",
      "\n",
      "from scipy.io import loadmat, whosmat\n",
      "import os\n",
      "\n",
      "os.listdir('.')"
     ],
     "language": "python",
     "metadata": {},
     "outputs": []
    },
    {
     "cell_type": "code",
     "collapsed": false,
     "input": [
      "cylinder = loadmat('cylinder.mat')\n",
      "screech = loadmat('screech.mat')"
     ],
     "language": "python",
     "metadata": {},
     "outputs": []
    },
    {
     "cell_type": "code",
     "collapsed": false,
     "input": [
      "fig = figure(figsize=(15, 10))\n",
      "for row, data in enumerate((cylinder, screech)):\n",
      "    for idx, key in enumerate(('UstarX1', 'S', 'V')):\n",
      "        ax = subplot(2, 3, row * 3 + idx + 1)\n",
      "        ax.imshow(data[key], cmap=get_cmap('RdBu'), interpolation='none')\n",
      "        ax.set_aspect('equal')\n",
      "        ax.set_axis_off()\n",
      "        ax.set_title(key)\n",
      "fig.tight_layout()"
     ],
     "language": "python",
     "metadata": {},
     "outputs": []
    },
    {
     "cell_type": "code",
     "collapsed": false,
     "input": [],
     "language": "python",
     "metadata": {},
     "outputs": []
    }
   ],
   "metadata": {}
  }
 ]
}