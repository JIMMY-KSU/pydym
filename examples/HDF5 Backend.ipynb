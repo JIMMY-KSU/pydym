{
 "metadata": {
  "name": "",
  "signature": "sha256:b3bbbf10b3b82f7ca47cd7fcb6df6cde176366886c44ad1ef1bb8a8d2bb60b14"
 },
 "nbformat": 3,
 "nbformat_minor": 0,
 "worksheets": [
  {
   "cells": [
    {
     "cell_type": "code",
     "collapsed": false,
     "input": [
      "%pylab inline\n",
      "\n",
      "import h5py, pydym, os"
     ],
     "language": "python",
     "metadata": {},
     "outputs": []
    },
    {
     "cell_type": "code",
     "collapsed": false,
     "input": [
      "current_dir = os.getcwd()\n",
      "data_dir = os.path.join(current_dir, 'test_data')"
     ],
     "language": "python",
     "metadata": {},
     "outputs": []
    },
    {
     "cell_type": "code",
     "collapsed": false,
     "input": [
      "reader = pydym.io.gerris.GerrisReader(directory=data_dir,\n",
      "                                      vertex_file='vertices.csv', \n",
      "                                      gerris='gerris2D')\n",
      "data = reader.process_directory(data_dir, update=False, clean=True)\n",
      "# data.thin_snapshots(2)\n",
      "data.generate_snapshots()"
     ],
     "language": "python",
     "metadata": {},
     "outputs": []
    },
    {
     "cell_type": "code",
     "collapsed": false,
     "input": [
      "contourf(data['snapshots/velocity'])"
     ],
     "language": "python",
     "metadata": {},
     "outputs": []
    },
    {
     "cell_type": "code",
     "collapsed": false,
     "input": [
      "S, U, sigma, Vstar = pydym.dynamic_decomposition(data, return_svd=True)"
     ],
     "language": "python",
     "metadata": {},
     "outputs": []
    },
    {
     "cell_type": "code",
     "collapsed": false,
     "input": [
      "old_snapshot = data.snapshots\n",
      "print '\\n', data['snapshots'].keys()\n",
      "data.set_snapshot_properties(snapshot_keys=['pressure', 'velocity'])\n",
      "print data.snapshots.shape\n",
      "print data['snapshots/pressure_velocity']\n",
      "print '\\n', self.data['snapshots'].keys()"
     ],
     "language": "python",
     "metadata": {},
     "outputs": []
    }
   ],
   "metadata": {}
  }
 ]
}