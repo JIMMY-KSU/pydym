{
 "metadata": {
  "name": "",
  "signature": "sha256:00dd59d103247b3c1a330056d36107f648d9b9d72ce6287125a4c1c089bc33b6"
 },
 "nbformat": 3,
 "nbformat_minor": 0,
 "worksheets": [
  {
   "cells": [
    {
     "cell_type": "code",
     "collapsed": false,
     "input": [
      "%pylab inline\n",
      "\n",
      "import h5py, pydym, os"
     ],
     "language": "python",
     "metadata": {},
     "outputs": []
    },
    {
     "cell_type": "code",
     "collapsed": false,
     "input": [
      "current_dir = os.getcwd()\n",
      "data_dir = os.path.join(current_dir, 'test_data')"
     ],
     "language": "python",
     "metadata": {},
     "outputs": []
    },
    {
     "cell_type": "code",
     "collapsed": false,
     "input": [
      "reader = pydym.io.gerris.GerrisReader(directory=data_dir,\n",
      "                                      vertex_file='vertices.csv', \n",
      "                                      gerris='gerris2D')\n",
      "data = reader.process_directory(data_dir, update=True, clean=True)"
     ],
     "language": "python",
     "metadata": {},
     "outputs": []
    },
    {
     "cell_type": "code",
     "collapsed": false,
     "input": [
      "pydym.plotting.plot_flow_data(data[10])"
     ],
     "language": "python",
     "metadata": {},
     "outputs": []
    },
    {
     "cell_type": "code",
     "collapsed": false,
     "input": [
      "S, U, sigma, Vstar = pydym.dynamic_decomposition(data, return_svd=True)\n",
      "evals, eigvecs = numpy.linalg.eig(S)\n",
      "\n",
      "modes = numpy.dot(U, eigvecs)"
     ],
     "language": "python",
     "metadata": {},
     "outputs": []
    },
    {
     "cell_type": "code",
     "collapsed": false,
     "input": [
      "from pydym import FlowDatum\n",
      "\n",
      "mode_idx = 2\n",
      "mode = FlowDatum(xs=data['position/y'], \n",
      "                 ys=data['position/x'], \n",
      "                 us=modes[::2, mode_idx], \n",
      "                 vs=modes[1::2, mode_idx])\n",
      "fig = figure(figsize=(11, 11))\n",
      "ax = gca()\n",
      "ax.quiver(mode.position[0], mode.position[1], mode.velocity[0], mode.velocity[1])\n",
      "ax.set_aspect('equal')\n",
      "ax.set_axis_off()\n",
      "fig.tight_layout()"
     ],
     "language": "python",
     "metadata": {},
     "outputs": []
    },
    {
     "cell_type": "code",
     "collapsed": false,
     "input": [
      "xs, ys, us = mode.interpolate('velocity', 'x')\n",
      "_,  _,  vs = mode.interpolate('velocity', 'y')\n",
      "dx, dy = xs[1] - xs[0], ys[1] - ys[0]\n",
      "du = numpy.gradient(us, dx, dy)\n",
      "dv = numpy.gradient(vs, dx, dy)\n",
      "dudxx = numpy.gradient()"
     ],
     "language": "python",
     "metadata": {},
     "outputs": []
    },
    {
     "cell_type": "code",
     "collapsed": false,
     "input": [
      "figure(figsize=(11, 11))\n",
      "subplot(2, 2, 1)\n",
      "contourf(xs, ys, du[0], 20)\n",
      "title('du/dx')\n",
      "subplot(2, 2, 2)\n",
      "contourf(xs, ys, du[1], 20)\n",
      "title('du/dy')\n",
      "subplot(2, 2, 3)\n",
      "contourf(xs, ys, dv[0], 20)\n",
      "title('dv/dx')\n",
      "subplot(2, 2, 4)\n",
      "contourf(xs, ys, dv[1], 20)\n",
      "title('dv/dy')"
     ],
     "language": "python",
     "metadata": {},
     "outputs": []
    },
    {
     "cell_type": "code",
     "collapsed": false,
     "input": [
      "figure()\n",
      "contourf(xs, ys, sqrt(du[0] + dv[1]))\n",
      "colorbar()"
     ],
     "language": "python",
     "metadata": {},
     "outputs": []
    }
   ],
   "metadata": {}
  }
 ]
}