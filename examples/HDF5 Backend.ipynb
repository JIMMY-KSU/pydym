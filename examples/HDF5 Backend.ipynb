{
 "metadata": {
  "name": "",
  "signature": "sha256:d1cb65c58c3abfdab8f9736d0a9faa9685d44be78b6512c3d3c748af8726d3a4"
 },
 "nbformat": 3,
 "nbformat_minor": 0,
 "worksheets": [
  {
   "cells": [
    {
     "cell_type": "code",
     "collapsed": false,
     "input": [
      "%pylab inline\n",
      "\n",
      "import h5py, pydym, os"
     ],
     "language": "python",
     "metadata": {},
     "outputs": []
    },
    {
     "cell_type": "code",
     "collapsed": false,
     "input": [
      "current_dir = os.getcwd()\n",
      "data_dir = os.path.join(current_dir, 'test_data')"
     ],
     "language": "python",
     "metadata": {},
     "outputs": []
    },
    {
     "cell_type": "code",
     "collapsed": false,
     "input": [
      "os.chdir(data_dir)\n",
      "reader = pydym.io.gerris.GerrisReader(vertex_file='vertices.csv', \n",
      "                                      gerris='gerris2D')\n",
      "data = reader.process_directory()"
     ],
     "language": "python",
     "metadata": {},
     "outputs": []
    },
    {
     "cell_type": "code",
     "collapsed": false,
     "input": [
      "if fhandle:\n",
      "    fhandle.close()\n",
      "    os.remove('test_data.hdf5')\n",
      "fhandle = h5py.File('test_data.hdf5', 'w')"
     ],
     "language": "python",
     "metadata": {},
     "outputs": []
    },
    {
     "cell_type": "code",
     "collapsed": false,
     "input": [
      "n_dimensions, n_timesteps, n_samples = 2, len(data), len(data[0])\n",
      "datacube_shape = (n_timesteps, n_samples)\n",
      "vector_data = ('position', 'velocity')\n",
      "scalar_data = ('pressure', 'tracer')\n",
      "axis_labels = ('x', 'y', 'z')\n",
      "\n",
      "# Map out velocity - interleave components\n",
      "velocity_shape = (datacube_shape[0], datacube_shape[1] * n_dimensions)\n",
      "vel = fhandle.require_dataset(name='velocity', shape=velocity_shape, dtype=float)\n",
      "for idx, dname in enumerate(vector_data):\n",
      "    grp = fhandle.create_group(dname)\n",
      "    for dim_idx in range(n_dimensions):\n",
      "        dset = grp.require_dataset(axis_labels[dim_idx], shape=datacube_shape, dtype=float)\n",
      "        for datum in \n",
      "#         vel[idx, dim_idx::n_dimensions] = datum.velocities[dim_idx]\n",
      "\n",
      "# Add other arguments\n",
      "for dset_name in ('pressure', 'tracer'):\n",
      "    try:\n",
      "        dset = fhandle.require_dataset(name=dset_name, shape=datacube_shape, dtype=float)\n",
      "    except AttributeError:\n",
      "        continue"
     ],
     "language": "python",
     "metadata": {},
     "outputs": []
    }
   ],
   "metadata": {}
  }
 ]
}