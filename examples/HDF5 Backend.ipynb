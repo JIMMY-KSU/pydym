{
 "metadata": {
  "name": "",
  "signature": "sha256:ce621f584b6964033f484ac384ac1c840d165279a7e2a9a61d869c967a14deb4"
 },
 "nbformat": 3,
 "nbformat_minor": 0,
 "worksheets": [
  {
   "cells": [
    {
     "cell_type": "code",
     "collapsed": false,
     "input": [
      "%pylab inline\n",
      "\n",
      "import h5py, pydym, os"
     ],
     "language": "python",
     "metadata": {},
     "outputs": []
    },
    {
     "cell_type": "code",
     "collapsed": false,
     "input": [
      "current_dir = os.getcwd()\n",
      "data_dir = os.path.join(current_dir, 'test_data')"
     ],
     "language": "python",
     "metadata": {},
     "outputs": []
    },
    {
     "cell_type": "code",
     "collapsed": false,
     "input": [
      "reader = pydym.io.gerris.GerrisReader(directory=data_dir,\n",
      "                                      vertex_file='vertices.csv', \n",
      "                                      gerris='gerris2D')\n",
      "data = reader.process_directory(data_dir, update=False, clean=True)\n",
      "# data.thin_snapshots(2)\n",
      "data.generate_snapshots()"
     ],
     "language": "python",
     "metadata": {},
     "outputs": []
    },
    {
     "cell_type": "code",
     "collapsed": false,
     "input": [
      "contourf(data['snapshots/velocity'])"
     ],
     "language": "python",
     "metadata": {},
     "outputs": []
    },
    {
     "cell_type": "code",
     "collapsed": false,
     "input": [
      "S, U, sigma, Vstar = pydym.dynamic_decomposition(data, return_svd=True)"
     ],
     "language": "python",
     "metadata": {},
     "outputs": []
    },
    {
     "cell_type": "code",
     "collapsed": false,
     "input": [],
     "language": "python",
     "metadata": {},
     "outputs": []
    }
   ],
   "metadata": {}
  }
 ]
}