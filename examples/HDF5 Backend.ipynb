{
 "metadata": {
  "name": "",
  "signature": "sha256:67003533f93ebf0bed76ceb1a7320c17fb7739757d7c9c29110bce87945f979a"
 },
 "nbformat": 3,
 "nbformat_minor": 0,
 "worksheets": [
  {
   "cells": [
    {
     "cell_type": "code",
     "collapsed": false,
     "input": [
      "%pylab inline\n",
      "\n",
      "import h5py, pydym, os"
     ],
     "language": "python",
     "metadata": {},
     "outputs": []
    },
    {
     "cell_type": "code",
     "collapsed": false,
     "input": [
      "current_dir = os.getcwd()\n",
      "data_dir = os.path.join(current_dir, 'test_data')"
     ],
     "language": "python",
     "metadata": {},
     "outputs": []
    },
    {
     "cell_type": "code",
     "collapsed": false,
     "input": [
      "reader = pydym.io.gerris.GerrisReader(directory=data_dir,\n",
      "                                      vertex_file='vertices.csv', \n",
      "                                      gerris='gerris2D')\n",
      "data = reader.process_directory(data_dir, update=False)"
     ],
     "language": "python",
     "metadata": {},
     "outputs": []
    },
    {
     "cell_type": "code",
     "collapsed": false,
     "input": [
      "pydym.plotting.plot_flow_data(data[10])"
     ],
     "language": "python",
     "metadata": {},
     "outputs": []
    },
    {
     "cell_type": "code",
     "collapsed": false,
     "input": [
      "os.listdir(data_dir)"
     ],
     "language": "python",
     "metadata": {},
     "outputs": []
    },
    {
     "cell_type": "code",
     "collapsed": false,
     "input": [
      "data2 = pydym.FlowData(os.path.join(data_dir,'.hdf5'))\n",
      "pydym.plotting.plot_flow_data(data2[10])"
     ],
     "language": "python",
     "metadata": {},
     "outputs": []
    }
   ],
   "metadata": {}
  }
 ]
}